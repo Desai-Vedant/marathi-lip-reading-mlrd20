{
 "cells": [
  {
   "cell_type": "markdown",
   "id": "3101ff56",
   "metadata": {},
   "source": [
    "# MLRD-20 Dataset Demo\n",
    "\n",
    "This notebook demonstrates how to explore and visualize the Marathi Lip Reading Dataset (MLRD-20). It does not include any model training."
   ]
  },
  {
   "cell_type": "markdown",
   "id": "63053063",
   "metadata": {},
   "source": [
    "## 📁 Load and Explore Dataset Directory"
   ]
  },
  {
   "cell_type": "code",
   "execution_count": null,
   "id": "bb1dbeff",
   "metadata": {},
   "outputs": [],
   "source": [
    "import os\n",
    "\n",
    "# Path to the dataset\n",
    "data_path = \"videos\"  # Adjust if needed\n",
    "video_files = sorted(os.listdir(data_path))[:5]\n",
    "print(\"Sample video files:\", video_files)"
   ]
  },
  {
   "cell_type": "markdown",
   "id": "4fa5aab7",
   "metadata": {},
   "source": [
    "## 📄 Load Annotations"
   ]
  },
  {
   "cell_type": "code",
   "execution_count": null,
   "id": "e1807e0d",
   "metadata": {},
   "outputs": [],
   "source": [
    "import pandas as pd\n",
    "\n",
    "annotations = pd.read_csv(\"annotation.csv\")\n",
    "annotations.head()"
   ]
  },
  {
   "cell_type": "markdown",
   "id": "7075caa7",
   "metadata": {},
   "source": [
    "## 📊 Word Distribution"
   ]
  },
  {
   "cell_type": "code",
   "execution_count": null,
   "id": "7a35ffc9",
   "metadata": {},
   "outputs": [],
   "source": [
    "import matplotlib.pyplot as plt\n",
    "\n",
    "word_counts = annotations['word_text'].value_counts().sort_values(ascending=False)\n",
    "plt.figure(figsize=(10, 5))\n",
    "word_counts.plot(kind='bar')\n",
    "plt.title(\"Word Distribution in MLRD-20\")\n",
    "plt.xlabel(\"Word\")\n",
    "plt.ylabel(\"Frequency\")\n",
    "plt.xticks(rotation=45)\n",
    "plt.tight_layout()\n",
    "plt.show()"
   ]
  },
  {
   "cell_type": "markdown",
   "id": "87c6c18e",
   "metadata": {},
   "source": [
    "## 🎞️ Display a Sample Video Frame"
   ]
  },
  {
   "cell_type": "code",
   "execution_count": null,
   "id": "6683768a",
   "metadata": {},
   "outputs": [],
   "source": [
    "import cv2\n",
    "import matplotlib.pyplot as plt\n",
    "\n",
    "sample_video = os.path.join(data_path, video_files[0])\n",
    "cap = cv2.VideoCapture(sample_video)\n",
    "\n",
    "ret, frame = cap.read()\n",
    "cap.release()\n",
    "\n",
    "if ret:\n",
    "    frame_rgb = cv2.cvtColor(frame, cv2.COLOR_BGR2RGB)\n",
    "    plt.imshow(frame_rgb)\n",
    "    plt.title(f\"Sample Frame from: {video_files[0]}\")\n",
    "    plt.axis('off')\n",
    "    plt.show()\n",
    "else:\n",
    "    print(\"Failed to load video.\")"
   ]
  }
 ],
 "metadata": {
  "language_info": {
   "name": "python"
  }
 },
 "nbformat": 4,
 "nbformat_minor": 5
}
